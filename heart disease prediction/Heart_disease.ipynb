{
 "cells": [
  {
   "cell_type": "code",
   "execution_count": 22,
   "id": "5f5d90e2-f074-4819-84ea-740768f4c7f9",
   "metadata": {},
   "outputs": [],
   "source": [
    "import numpy as np # linear algebra\n",
    "import pandas as pd\n",
    "import os\n",
    "for dirname, _, filenames in os.walk('./input/heart.csv'):\n",
    "    for filename in filenames:\n",
    "        print(os.path.join(dirname, filename))"
   ]
  },
  {
   "cell_type": "code",
   "execution_count": 23,
   "id": "9f990490-f2b5-4908-9e7e-19f5e30014d9",
   "metadata": {},
   "outputs": [],
   "source": [
    "import pandas as pd\n",
    "import numpy as np\n",
    "import matplotlib.pyplot as plt\n",
    "import seaborn as sns"
   ]
  },
  {
   "cell_type": "code",
   "execution_count": 24,
   "id": "0667d857-03c8-4423-ae66-381a92c0cfcf",
   "metadata": {},
   "outputs": [],
   "source": [
    "from pyspark.sql import SparkSession\n",
    "spark = SparkSession.builder.getOrCreate()"
   ]
  },
  {
   "cell_type": "code",
   "execution_count": 25,
   "id": "d4ca6bf1-7848-4e08-b8ce-312058a350e7",
   "metadata": {},
   "outputs": [],
   "source": [
    "#Load data into spark \n",
    "data = spark.read.csv('./input/heart.csv', header = True)"
   ]
  },
  {
   "cell_type": "code",
   "execution_count": 26,
   "id": "a01647fc-76ec-44d4-b601-85089c43f1ef",
   "metadata": {},
   "outputs": [
    {
     "data": {
      "text/html": [
       "<div>\n",
       "<style scoped>\n",
       "    .dataframe tbody tr th:only-of-type {\n",
       "        vertical-align: middle;\n",
       "    }\n",
       "\n",
       "    .dataframe tbody tr th {\n",
       "        vertical-align: top;\n",
       "    }\n",
       "\n",
       "    .dataframe thead th {\n",
       "        text-align: right;\n",
       "    }\n",
       "</style>\n",
       "<table border=\"1\" class=\"dataframe\">\n",
       "  <thead>\n",
       "    <tr style=\"text-align: right;\">\n",
       "      <th></th>\n",
       "      <th>age</th>\n",
       "      <th>sex</th>\n",
       "      <th>cp</th>\n",
       "      <th>trestbps</th>\n",
       "      <th>chol</th>\n",
       "      <th>fbs</th>\n",
       "      <th>restecg</th>\n",
       "      <th>thalach</th>\n",
       "      <th>exang</th>\n",
       "      <th>oldpeak</th>\n",
       "      <th>slope</th>\n",
       "      <th>ca</th>\n",
       "      <th>thal</th>\n",
       "      <th>target</th>\n",
       "    </tr>\n",
       "  </thead>\n",
       "  <tbody>\n",
       "    <tr>\n",
       "      <th>0</th>\n",
       "      <td>52</td>\n",
       "      <td>1</td>\n",
       "      <td>0</td>\n",
       "      <td>125</td>\n",
       "      <td>212</td>\n",
       "      <td>0</td>\n",
       "      <td>1</td>\n",
       "      <td>168</td>\n",
       "      <td>0</td>\n",
       "      <td>1.0</td>\n",
       "      <td>2</td>\n",
       "      <td>2</td>\n",
       "      <td>3</td>\n",
       "      <td>0</td>\n",
       "    </tr>\n",
       "    <tr>\n",
       "      <th>1</th>\n",
       "      <td>53</td>\n",
       "      <td>1</td>\n",
       "      <td>0</td>\n",
       "      <td>140</td>\n",
       "      <td>203</td>\n",
       "      <td>1</td>\n",
       "      <td>0</td>\n",
       "      <td>155</td>\n",
       "      <td>1</td>\n",
       "      <td>3.1</td>\n",
       "      <td>0</td>\n",
       "      <td>0</td>\n",
       "      <td>3</td>\n",
       "      <td>0</td>\n",
       "    </tr>\n",
       "    <tr>\n",
       "      <th>2</th>\n",
       "      <td>70</td>\n",
       "      <td>1</td>\n",
       "      <td>0</td>\n",
       "      <td>145</td>\n",
       "      <td>174</td>\n",
       "      <td>0</td>\n",
       "      <td>1</td>\n",
       "      <td>125</td>\n",
       "      <td>1</td>\n",
       "      <td>2.6</td>\n",
       "      <td>0</td>\n",
       "      <td>0</td>\n",
       "      <td>3</td>\n",
       "      <td>0</td>\n",
       "    </tr>\n",
       "    <tr>\n",
       "      <th>3</th>\n",
       "      <td>61</td>\n",
       "      <td>1</td>\n",
       "      <td>0</td>\n",
       "      <td>148</td>\n",
       "      <td>203</td>\n",
       "      <td>0</td>\n",
       "      <td>1</td>\n",
       "      <td>161</td>\n",
       "      <td>0</td>\n",
       "      <td>0.0</td>\n",
       "      <td>2</td>\n",
       "      <td>1</td>\n",
       "      <td>3</td>\n",
       "      <td>0</td>\n",
       "    </tr>\n",
       "    <tr>\n",
       "      <th>4</th>\n",
       "      <td>62</td>\n",
       "      <td>0</td>\n",
       "      <td>0</td>\n",
       "      <td>138</td>\n",
       "      <td>294</td>\n",
       "      <td>1</td>\n",
       "      <td>1</td>\n",
       "      <td>106</td>\n",
       "      <td>0</td>\n",
       "      <td>1.9</td>\n",
       "      <td>1</td>\n",
       "      <td>3</td>\n",
       "      <td>2</td>\n",
       "      <td>0</td>\n",
       "    </tr>\n",
       "  </tbody>\n",
       "</table>\n",
       "</div>"
      ],
      "text/plain": [
       "   age  sex  cp  trestbps  chol  fbs  restecg  thalach  exang  oldpeak  slope  \\\n",
       "0   52    1   0       125   212    0        1      168      0      1.0      2   \n",
       "1   53    1   0       140   203    1        0      155      1      3.1      0   \n",
       "2   70    1   0       145   174    0        1      125      1      2.6      0   \n",
       "3   61    1   0       148   203    0        1      161      0      0.0      2   \n",
       "4   62    0   0       138   294    1        1      106      0      1.9      1   \n",
       "\n",
       "   ca  thal  target  \n",
       "0   2     3       0  \n",
       "1   0     3       0  \n",
       "2   0     3       0  \n",
       "3   1     3       0  \n",
       "4   3     2       0  "
      ]
     },
     "execution_count": 26,
     "metadata": {},
     "output_type": "execute_result"
    }
   ],
   "source": [
    "df = pd.read_csv('./input/heart.csv')\n",
    "df.head()"
   ]
  },
  {
   "cell_type": "code",
   "execution_count": 27,
   "id": "c7928922-9b93-44cd-b4fe-2e678ee82c85",
   "metadata": {},
   "outputs": [
    {
     "name": "stdout",
     "output_type": "stream",
     "text": [
      "<class 'pandas.core.frame.DataFrame'>\n",
      "RangeIndex: 1025 entries, 0 to 1024\n",
      "Data columns (total 14 columns):\n",
      " #   Column    Non-Null Count  Dtype  \n",
      "---  ------    --------------  -----  \n",
      " 0   age       1025 non-null   int64  \n",
      " 1   sex       1025 non-null   int64  \n",
      " 2   cp        1025 non-null   int64  \n",
      " 3   trestbps  1025 non-null   int64  \n",
      " 4   chol      1025 non-null   int64  \n",
      " 5   fbs       1025 non-null   int64  \n",
      " 6   restecg   1025 non-null   int64  \n",
      " 7   thalach   1025 non-null   int64  \n",
      " 8   exang     1025 non-null   int64  \n",
      " 9   oldpeak   1025 non-null   float64\n",
      " 10  slope     1025 non-null   int64  \n",
      " 11  ca        1025 non-null   int64  \n",
      " 12  thal      1025 non-null   int64  \n",
      " 13  target    1025 non-null   int64  \n",
      "dtypes: float64(1), int64(13)\n",
      "memory usage: 112.2 KB\n"
     ]
    }
   ],
   "source": [
    "df.info()"
   ]
  },
  {
   "cell_type": "code",
   "execution_count": 28,
   "id": "73fe758e-a412-49a2-be66-8798f0a44573",
   "metadata": {},
   "outputs": [
    {
     "name": "stdout",
     "output_type": "stream",
     "text": [
      "root\n",
      " |-- age: string (nullable = true)\n",
      " |-- sex: string (nullable = true)\n",
      " |-- cp: string (nullable = true)\n",
      " |-- trestbps: string (nullable = true)\n",
      " |-- chol: string (nullable = true)\n",
      " |-- fbs: string (nullable = true)\n",
      " |-- restecg: string (nullable = true)\n",
      " |-- thalach: string (nullable = true)\n",
      " |-- exang: string (nullable = true)\n",
      " |-- oldpeak: string (nullable = true)\n",
      " |-- slope: string (nullable = true)\n",
      " |-- ca: string (nullable = true)\n",
      " |-- thal: string (nullable = true)\n",
      " |-- target: string (nullable = true)\n",
      "\n"
     ]
    }
   ],
   "source": [
    "#Columns in data\n",
    "data.printSchema()"
   ]
  },
  {
   "cell_type": "code",
   "execution_count": 29,
   "id": "02f5e632-6338-4b61-a42e-1a5dc815aa5f",
   "metadata": {},
   "outputs": [],
   "source": [
    "from pyspark.sql.types import *\n",
    "\n",
    "# Write a custom function to convert the data type of DataFrame columns\n",
    "def convertColumn(df, names, newType):\n",
    "  for name in names: \n",
    "     df = df.withColumn(name, df[name].cast(newType))\n",
    "  return df \n",
    "int_columns = ['age','sex','cp', 'trestbps','chol','fbs','restecg','thalach','exang','slope','ca','thal','target']\n",
    "float_column = ['oldpeak']\n",
    "data = convertColumn(data, int_columns, IntegerType())\n",
    "data = convertColumn(data, float_column, FloatType())"
   ]
  },
  {
   "cell_type": "code",
   "execution_count": 30,
   "id": "e441697a-5a7f-49c5-a89b-214d61bdbfa9",
   "metadata": {},
   "outputs": [
    {
     "data": {
      "text/plain": [
       "DataFrame[age: int, sex: int, cp: int, trestbps: int, chol: int, fbs: int, restecg: int, thalach: int, exang: int, oldpeak: float, slope: int, ca: int, thal: int, target: int]"
      ]
     },
     "execution_count": 30,
     "metadata": {},
     "output_type": "execute_result"
    }
   ],
   "source": [
    "data.persist()"
   ]
  },
  {
   "cell_type": "code",
   "execution_count": 31,
   "id": "b303ac8e-0b02-4a85-b5d7-87fa771db77c",
   "metadata": {},
   "outputs": [
    {
     "data": {
      "text/plain": [
       "[Row(age=52, sex=1, cp=0, trestbps=125, chol=212, fbs=0, restecg=1, thalach=168, exang=0, oldpeak=1.0, slope=2, ca=2, thal=3, target=0)]"
      ]
     },
     "execution_count": 31,
     "metadata": {},
     "output_type": "execute_result"
    }
   ],
   "source": [
    "#Take one sample\n",
    "data.take(1)"
   ]
  },
  {
   "cell_type": "code",
   "execution_count": 32,
   "id": "e0db5469-7c00-45e8-8429-fbb48e26094a",
   "metadata": {},
   "outputs": [
    {
     "name": "stdout",
     "output_type": "stream",
     "text": [
      "+-------+-----------------+------------------+------------------+------------------+-----------------+-------------------+------------------+------------------+-------------------+------------------+------------------+------------------+------------------+------------------+\n",
      "|summary|              age|               sex|                cp|          trestbps|             chol|                fbs|           restecg|           thalach|              exang|           oldpeak|             slope|                ca|              thal|            target|\n",
      "+-------+-----------------+------------------+------------------+------------------+-----------------+-------------------+------------------+------------------+-------------------+------------------+------------------+------------------+------------------+------------------+\n",
      "|  count|             1025|              1025|              1025|              1025|             1025|               1025|              1025|              1025|               1025|              1025|              1025|              1025|              1025|              1025|\n",
      "|   mean|54.43414634146342|0.6956097560975609|0.9424390243902439|131.61170731707318|            246.0|0.14926829268292682|0.5297560975609756|149.11414634146342|0.33658536585365856|1.0715121934253995|1.3853658536585365|0.7541463414634146|  2.32390243902439|0.5131707317073171|\n",
      "| stddev|9.072290233244278|0.4603733241196495| 1.029640743645865|17.516718005376408|51.59251020618203|0.35652668972715756|0.5278775668748918| 23.00572374597721| 0.4727723760037115|1.1750532436512844|0.6177552671745918|1.0307976650242825|0.6206602380510303|0.5000704980788011|\n",
      "|    min|               29|                 0|                 0|                94|              126|                  0|                 0|                71|                  0|               0.0|                 0|                 0|                 0|                 0|\n",
      "|    max|               77|                 1|                 3|               200|              564|                  1|                 2|               202|                  1|               6.2|                 2|                 4|                 3|                 1|\n",
      "+-------+-----------------+------------------+------------------+------------------+-----------------+-------------------+------------------+------------------+-------------------+------------------+------------------+------------------+------------------+------------------+\n",
      "\n"
     ]
    }
   ],
   "source": [
    "data.describe().show() # It is hard to see"
   ]
  },
  {
   "cell_type": "code",
   "execution_count": 33,
   "id": "9938751c-1896-46e8-b004-c7df2e9ba145",
   "metadata": {},
   "outputs": [
    {
     "name": "stdout",
     "output_type": "stream",
     "text": [
      "+-------+------------------+\n",
      "|summary|            target|\n",
      "+-------+------------------+\n",
      "|  count|              1025|\n",
      "|   mean|0.5131707317073171|\n",
      "| stddev|0.5000704980788011|\n",
      "|    min|                 0|\n",
      "|    max|                 1|\n",
      "+-------+------------------+\n",
      "\n"
     ]
    }
   ],
   "source": [
    "data.describe('target').show()"
   ]
  },
  {
   "cell_type": "code",
   "execution_count": 34,
   "id": "517e91a7-4362-4472-b4d2-08e76d7bc196",
   "metadata": {},
   "outputs": [
    {
     "name": "stdout",
     "output_type": "stream",
     "text": [
      "+-------+-----------------+\n",
      "|summary|              age|\n",
      "+-------+-----------------+\n",
      "|  count|             1025|\n",
      "|   mean|54.43414634146342|\n",
      "| stddev|9.072290233244278|\n",
      "|    min|               29|\n",
      "|    max|               77|\n",
      "+-------+-----------------+\n",
      "\n"
     ]
    }
   ],
   "source": [
    "data.describe('age').show()"
   ]
  },
  {
   "cell_type": "code",
   "execution_count": 35,
   "id": "51ce47ad-19c4-46ff-9a29-2531dc2c44a9",
   "metadata": {},
   "outputs": [
    {
     "data": {
      "text/plain": [
       "1025"
      ]
     },
     "execution_count": 35,
     "metadata": {},
     "output_type": "execute_result"
    }
   ],
   "source": [
    "#Count number of samples\n",
    "data.count()"
   ]
  },
  {
   "cell_type": "code",
   "execution_count": 36,
   "id": "07b0098e-4b5a-4729-9baf-448c44705a08",
   "metadata": {},
   "outputs": [
    {
     "data": {
      "text/html": [
       "<div>\n",
       "<style scoped>\n",
       "    .dataframe tbody tr th:only-of-type {\n",
       "        vertical-align: middle;\n",
       "    }\n",
       "\n",
       "    .dataframe tbody tr th {\n",
       "        vertical-align: top;\n",
       "    }\n",
       "\n",
       "    .dataframe thead th {\n",
       "        text-align: right;\n",
       "    }\n",
       "</style>\n",
       "<table border=\"1\" class=\"dataframe\">\n",
       "  <thead>\n",
       "    <tr style=\"text-align: right;\">\n",
       "      <th></th>\n",
       "      <th>age</th>\n",
       "      <th>sex</th>\n",
       "      <th>cp</th>\n",
       "      <th>trestbps</th>\n",
       "      <th>chol</th>\n",
       "      <th>fbs</th>\n",
       "      <th>restecg</th>\n",
       "      <th>thalach</th>\n",
       "      <th>exang</th>\n",
       "      <th>oldpeak</th>\n",
       "      <th>slope</th>\n",
       "      <th>ca</th>\n",
       "      <th>thal</th>\n",
       "      <th>target</th>\n",
       "    </tr>\n",
       "  </thead>\n",
       "  <tbody>\n",
       "    <tr>\n",
       "      <th>0</th>\n",
       "      <td>52</td>\n",
       "      <td>1</td>\n",
       "      <td>0</td>\n",
       "      <td>125</td>\n",
       "      <td>212</td>\n",
       "      <td>0</td>\n",
       "      <td>1</td>\n",
       "      <td>168</td>\n",
       "      <td>0</td>\n",
       "      <td>1.0</td>\n",
       "      <td>2</td>\n",
       "      <td>2</td>\n",
       "      <td>3</td>\n",
       "      <td>0</td>\n",
       "    </tr>\n",
       "    <tr>\n",
       "      <th>1</th>\n",
       "      <td>53</td>\n",
       "      <td>1</td>\n",
       "      <td>0</td>\n",
       "      <td>140</td>\n",
       "      <td>203</td>\n",
       "      <td>1</td>\n",
       "      <td>0</td>\n",
       "      <td>155</td>\n",
       "      <td>1</td>\n",
       "      <td>3.1</td>\n",
       "      <td>0</td>\n",
       "      <td>0</td>\n",
       "      <td>3</td>\n",
       "      <td>0</td>\n",
       "    </tr>\n",
       "    <tr>\n",
       "      <th>2</th>\n",
       "      <td>70</td>\n",
       "      <td>1</td>\n",
       "      <td>0</td>\n",
       "      <td>145</td>\n",
       "      <td>174</td>\n",
       "      <td>0</td>\n",
       "      <td>1</td>\n",
       "      <td>125</td>\n",
       "      <td>1</td>\n",
       "      <td>2.6</td>\n",
       "      <td>0</td>\n",
       "      <td>0</td>\n",
       "      <td>3</td>\n",
       "      <td>0</td>\n",
       "    </tr>\n",
       "    <tr>\n",
       "      <th>3</th>\n",
       "      <td>61</td>\n",
       "      <td>1</td>\n",
       "      <td>0</td>\n",
       "      <td>148</td>\n",
       "      <td>203</td>\n",
       "      <td>0</td>\n",
       "      <td>1</td>\n",
       "      <td>161</td>\n",
       "      <td>0</td>\n",
       "      <td>0.0</td>\n",
       "      <td>2</td>\n",
       "      <td>1</td>\n",
       "      <td>3</td>\n",
       "      <td>0</td>\n",
       "    </tr>\n",
       "    <tr>\n",
       "      <th>4</th>\n",
       "      <td>62</td>\n",
       "      <td>0</td>\n",
       "      <td>0</td>\n",
       "      <td>138</td>\n",
       "      <td>294</td>\n",
       "      <td>1</td>\n",
       "      <td>1</td>\n",
       "      <td>106</td>\n",
       "      <td>0</td>\n",
       "      <td>1.9</td>\n",
       "      <td>1</td>\n",
       "      <td>3</td>\n",
       "      <td>2</td>\n",
       "      <td>0</td>\n",
       "    </tr>\n",
       "    <tr>\n",
       "      <th>...</th>\n",
       "      <td>...</td>\n",
       "      <td>...</td>\n",
       "      <td>...</td>\n",
       "      <td>...</td>\n",
       "      <td>...</td>\n",
       "      <td>...</td>\n",
       "      <td>...</td>\n",
       "      <td>...</td>\n",
       "      <td>...</td>\n",
       "      <td>...</td>\n",
       "      <td>...</td>\n",
       "      <td>...</td>\n",
       "      <td>...</td>\n",
       "      <td>...</td>\n",
       "    </tr>\n",
       "    <tr>\n",
       "      <th>1020</th>\n",
       "      <td>59</td>\n",
       "      <td>1</td>\n",
       "      <td>1</td>\n",
       "      <td>140</td>\n",
       "      <td>221</td>\n",
       "      <td>0</td>\n",
       "      <td>1</td>\n",
       "      <td>164</td>\n",
       "      <td>1</td>\n",
       "      <td>0.0</td>\n",
       "      <td>2</td>\n",
       "      <td>0</td>\n",
       "      <td>2</td>\n",
       "      <td>1</td>\n",
       "    </tr>\n",
       "    <tr>\n",
       "      <th>1021</th>\n",
       "      <td>60</td>\n",
       "      <td>1</td>\n",
       "      <td>0</td>\n",
       "      <td>125</td>\n",
       "      <td>258</td>\n",
       "      <td>0</td>\n",
       "      <td>0</td>\n",
       "      <td>141</td>\n",
       "      <td>1</td>\n",
       "      <td>2.8</td>\n",
       "      <td>1</td>\n",
       "      <td>1</td>\n",
       "      <td>3</td>\n",
       "      <td>0</td>\n",
       "    </tr>\n",
       "    <tr>\n",
       "      <th>1022</th>\n",
       "      <td>47</td>\n",
       "      <td>1</td>\n",
       "      <td>0</td>\n",
       "      <td>110</td>\n",
       "      <td>275</td>\n",
       "      <td>0</td>\n",
       "      <td>0</td>\n",
       "      <td>118</td>\n",
       "      <td>1</td>\n",
       "      <td>1.0</td>\n",
       "      <td>1</td>\n",
       "      <td>1</td>\n",
       "      <td>2</td>\n",
       "      <td>0</td>\n",
       "    </tr>\n",
       "    <tr>\n",
       "      <th>1023</th>\n",
       "      <td>50</td>\n",
       "      <td>0</td>\n",
       "      <td>0</td>\n",
       "      <td>110</td>\n",
       "      <td>254</td>\n",
       "      <td>0</td>\n",
       "      <td>0</td>\n",
       "      <td>159</td>\n",
       "      <td>0</td>\n",
       "      <td>0.0</td>\n",
       "      <td>2</td>\n",
       "      <td>0</td>\n",
       "      <td>2</td>\n",
       "      <td>1</td>\n",
       "    </tr>\n",
       "    <tr>\n",
       "      <th>1024</th>\n",
       "      <td>54</td>\n",
       "      <td>1</td>\n",
       "      <td>0</td>\n",
       "      <td>120</td>\n",
       "      <td>188</td>\n",
       "      <td>0</td>\n",
       "      <td>1</td>\n",
       "      <td>113</td>\n",
       "      <td>0</td>\n",
       "      <td>1.4</td>\n",
       "      <td>1</td>\n",
       "      <td>1</td>\n",
       "      <td>3</td>\n",
       "      <td>0</td>\n",
       "    </tr>\n",
       "  </tbody>\n",
       "</table>\n",
       "<p>1025 rows × 14 columns</p>\n",
       "</div>"
      ],
      "text/plain": [
       "      age  sex  cp  trestbps  chol  fbs  restecg  thalach  exang  oldpeak  \\\n",
       "0      52    1   0       125   212    0        1      168      0      1.0   \n",
       "1      53    1   0       140   203    1        0      155      1      3.1   \n",
       "2      70    1   0       145   174    0        1      125      1      2.6   \n",
       "3      61    1   0       148   203    0        1      161      0      0.0   \n",
       "4      62    0   0       138   294    1        1      106      0      1.9   \n",
       "...   ...  ...  ..       ...   ...  ...      ...      ...    ...      ...   \n",
       "1020   59    1   1       140   221    0        1      164      1      0.0   \n",
       "1021   60    1   0       125   258    0        0      141      1      2.8   \n",
       "1022   47    1   0       110   275    0        0      118      1      1.0   \n",
       "1023   50    0   0       110   254    0        0      159      0      0.0   \n",
       "1024   54    1   0       120   188    0        1      113      0      1.4   \n",
       "\n",
       "      slope  ca  thal  target  \n",
       "0         2   2     3       0  \n",
       "1         0   0     3       0  \n",
       "2         0   0     3       0  \n",
       "3         2   1     3       0  \n",
       "4         1   3     2       0  \n",
       "...     ...  ..   ...     ...  \n",
       "1020      2   0     2       1  \n",
       "1021      1   1     3       0  \n",
       "1022      1   1     2       0  \n",
       "1023      2   0     2       1  \n",
       "1024      1   1     3       0  \n",
       "\n",
       "[1025 rows x 14 columns]"
      ]
     },
     "execution_count": 36,
     "metadata": {},
     "output_type": "execute_result"
    }
   ],
   "source": [
    "#Change spark to pandas dataframe\n",
    "pd_data =data.toPandas()\n",
    "pd_data"
   ]
  },
  {
   "cell_type": "code",
   "execution_count": 37,
   "id": "b3cc864d-69aa-403c-8981-f7205cae9c2d",
   "metadata": {},
   "outputs": [
    {
     "name": "stdout",
     "output_type": "stream",
     "text": [
      "<class 'pandas.core.frame.DataFrame'>\n",
      "RangeIndex: 1025 entries, 0 to 1024\n",
      "Data columns (total 14 columns):\n",
      " #   Column    Non-Null Count  Dtype  \n",
      "---  ------    --------------  -----  \n",
      " 0   age       1025 non-null   int32  \n",
      " 1   sex       1025 non-null   int32  \n",
      " 2   cp        1025 non-null   int32  \n",
      " 3   trestbps  1025 non-null   int32  \n",
      " 4   chol      1025 non-null   int32  \n",
      " 5   fbs       1025 non-null   int32  \n",
      " 6   restecg   1025 non-null   int32  \n",
      " 7   thalach   1025 non-null   int32  \n",
      " 8   exang     1025 non-null   int32  \n",
      " 9   oldpeak   1025 non-null   float32\n",
      " 10  slope     1025 non-null   int32  \n",
      " 11  ca        1025 non-null   int32  \n",
      " 12  thal      1025 non-null   int32  \n",
      " 13  target    1025 non-null   int32  \n",
      "dtypes: float32(1), int32(13)\n",
      "memory usage: 56.2 KB\n"
     ]
    }
   ],
   "source": [
    "pd_data.info()"
   ]
  },
  {
   "cell_type": "code",
   "execution_count": 38,
   "id": "ce86dd2e-565c-47cb-834e-c8d416542a23",
   "metadata": {},
   "outputs": [
    {
     "name": "stdout",
     "output_type": "stream",
     "text": [
      "+---+--------+----+-------+-------+------+-------------+-------------+-------------+-------------+-------------+-------------+-------------+-------------+\n",
      "|age|trestbps|chol|thalach|oldpeak|target|       sexVec|        cpVec|       fbsVec|   restecgVec|     exangVec|     slopeVec|        caVec|      thalVec|\n",
      "+---+--------+----+-------+-------+------+-------------+-------------+-------------+-------------+-------------+-------------+-------------+-------------+\n",
      "| 52|     125| 212|    168|    1.0|     0|    (1,[],[])|(3,[0],[1.0])|(1,[0],[1.0])|(2,[1],[1.0])|(1,[0],[1.0])|    (2,[],[])|(4,[2],[1.0])|    (3,[],[])|\n",
      "| 53|     140| 203|    155|    3.1|     0|    (1,[],[])|(3,[0],[1.0])|    (1,[],[])|(2,[0],[1.0])|    (1,[],[])|(2,[0],[1.0])|(4,[0],[1.0])|    (3,[],[])|\n",
      "| 70|     145| 174|    125|    2.6|     0|    (1,[],[])|(3,[0],[1.0])|(1,[0],[1.0])|(2,[1],[1.0])|    (1,[],[])|(2,[0],[1.0])|(4,[0],[1.0])|    (3,[],[])|\n",
      "| 61|     148| 203|    161|    0.0|     0|    (1,[],[])|(3,[0],[1.0])|(1,[0],[1.0])|(2,[1],[1.0])|(1,[0],[1.0])|    (2,[],[])|(4,[1],[1.0])|    (3,[],[])|\n",
      "| 62|     138| 294|    106|    1.9|     0|(1,[0],[1.0])|(3,[0],[1.0])|    (1,[],[])|(2,[1],[1.0])|(1,[0],[1.0])|(2,[1],[1.0])|(4,[3],[1.0])|(3,[2],[1.0])|\n",
      "| 58|     100| 248|    122|    1.0|     1|(1,[0],[1.0])|(3,[0],[1.0])|(1,[0],[1.0])|(2,[0],[1.0])|(1,[0],[1.0])|(2,[1],[1.0])|(4,[0],[1.0])|(3,[2],[1.0])|\n",
      "| 58|     114| 318|    140|    4.4|     0|    (1,[],[])|(3,[0],[1.0])|(1,[0],[1.0])|    (2,[],[])|(1,[0],[1.0])|(2,[0],[1.0])|(4,[3],[1.0])|(3,[1],[1.0])|\n",
      "| 55|     160| 289|    145|    0.8|     0|    (1,[],[])|(3,[0],[1.0])|(1,[0],[1.0])|(2,[0],[1.0])|    (1,[],[])|(2,[1],[1.0])|(4,[1],[1.0])|    (3,[],[])|\n",
      "| 46|     120| 249|    144|    0.8|     0|    (1,[],[])|(3,[0],[1.0])|(1,[0],[1.0])|(2,[0],[1.0])|(1,[0],[1.0])|    (2,[],[])|(4,[0],[1.0])|    (3,[],[])|\n",
      "| 54|     122| 286|    116|    3.2|     0|    (1,[],[])|(3,[0],[1.0])|(1,[0],[1.0])|(2,[0],[1.0])|    (1,[],[])|(2,[1],[1.0])|(4,[2],[1.0])|(3,[2],[1.0])|\n",
      "| 71|     112| 149|    125|    1.6|     1|(1,[0],[1.0])|(3,[0],[1.0])|(1,[0],[1.0])|(2,[1],[1.0])|(1,[0],[1.0])|(2,[1],[1.0])|(4,[0],[1.0])|(3,[2],[1.0])|\n",
      "| 43|     132| 341|    136|    3.0|     0|(1,[0],[1.0])|(3,[0],[1.0])|    (1,[],[])|(2,[0],[1.0])|    (1,[],[])|(2,[1],[1.0])|(4,[0],[1.0])|    (3,[],[])|\n",
      "| 34|     118| 210|    192|    0.7|     1|(1,[0],[1.0])|(3,[1],[1.0])|(1,[0],[1.0])|(2,[1],[1.0])|(1,[0],[1.0])|    (2,[],[])|(4,[0],[1.0])|(3,[2],[1.0])|\n",
      "| 51|     140| 298|    122|    4.2|     0|    (1,[],[])|(3,[0],[1.0])|(1,[0],[1.0])|(2,[1],[1.0])|    (1,[],[])|(2,[1],[1.0])|(4,[3],[1.0])|    (3,[],[])|\n",
      "| 52|     128| 204|    156|    1.0|     0|    (1,[],[])|(3,[0],[1.0])|    (1,[],[])|(2,[1],[1.0])|    (1,[],[])|(2,[1],[1.0])|(4,[0],[1.0])|(3,[0],[1.0])|\n",
      "| 34|     118| 210|    192|    0.7|     1|(1,[0],[1.0])|(3,[1],[1.0])|(1,[0],[1.0])|(2,[1],[1.0])|(1,[0],[1.0])|    (2,[],[])|(4,[0],[1.0])|(3,[2],[1.0])|\n",
      "| 51|     140| 308|    142|    1.5|     1|(1,[0],[1.0])|(3,[2],[1.0])|(1,[0],[1.0])|(2,[0],[1.0])|(1,[0],[1.0])|    (2,[],[])|(4,[1],[1.0])|(3,[2],[1.0])|\n",
      "| 54|     124| 266|    109|    2.2|     0|    (1,[],[])|(3,[0],[1.0])|(1,[0],[1.0])|(2,[0],[1.0])|    (1,[],[])|(2,[1],[1.0])|(4,[1],[1.0])|    (3,[],[])|\n",
      "| 50|     120| 244|    162|    1.1|     1|(1,[0],[1.0])|(3,[1],[1.0])|(1,[0],[1.0])|(2,[1],[1.0])|(1,[0],[1.0])|    (2,[],[])|(4,[0],[1.0])|(3,[2],[1.0])|\n",
      "| 58|     140| 211|    165|    0.0|     1|    (1,[],[])|(3,[2],[1.0])|    (1,[],[])|(2,[0],[1.0])|(1,[0],[1.0])|    (2,[],[])|(4,[0],[1.0])|(3,[2],[1.0])|\n",
      "+---+--------+----+-------+-------+------+-------------+-------------+-------------+-------------+-------------+-------------+-------------+-------------+\n",
      "only showing top 20 rows\n",
      "\n"
     ]
    }
   ],
   "source": [
    "#One-hot encoding maps a categorical feature, represented as a label index, to a binary vector with at most a single one-value indicating the presence of a specific feature value from among the set of all feature values.\n",
    "from pyspark.ml.feature import OneHotEncoder\n",
    "encoder = OneHotEncoder(inputCols=['sex','cp','fbs','restecg','exang','slope','ca','thal'],\n",
    "                           outputCols =['sexVec','cpVec','fbsVec','restecgVec','exangVec','slopeVec','caVec','thalVec'])\n",
    "encoded =  encoder.fit(data).transform(data)\n",
    "data_encoded = encoded.drop('sex','cp','fbs','restecg','exang','slope','ca','thal')\n",
    "data_encoded.show()"
   ]
  },
  {
   "cell_type": "code",
   "execution_count": 39,
   "id": "9ddb3509-a94d-4e6e-95ef-8ce719f9f272",
   "metadata": {},
   "outputs": [
    {
     "name": "stdout",
     "output_type": "stream",
     "text": [
      "+--------------------+------+\n",
      "|            features|target|\n",
      "+--------------------+------+\n",
      "|(22,[0,1,2,3,4,6,...|     0|\n",
      "|(22,[0,1,2,3,4,6,...|     0|\n",
      "|(22,[0,1,2,3,4,6,...|     0|\n",
      "|(22,[0,1,2,3,6,9,...|     0|\n",
      "|(22,[0,1,2,3,4,5,...|     0|\n",
      "|(22,[0,1,2,3,4,5,...|     1|\n",
      "|(22,[0,1,2,3,4,6,...|     0|\n",
      "|(22,[0,1,2,3,4,6,...|     0|\n",
      "|(22,[0,1,2,3,4,6,...|     0|\n",
      "|(22,[0,1,2,3,4,6,...|     0|\n",
      "|(22,[0,1,2,3,4,5,...|     1|\n",
      "|(22,[0,1,2,3,4,5,...|     0|\n",
      "|(22,[0,1,2,3,4,5,...|     1|\n",
      "|(22,[0,1,2,3,4,6,...|     0|\n",
      "|(22,[0,1,2,3,4,6,...|     0|\n",
      "|(22,[0,1,2,3,4,5,...|     1|\n",
      "|(22,[0,1,2,3,4,5,...|     1|\n",
      "|(22,[0,1,2,3,4,6,...|     0|\n",
      "|(22,[0,1,2,3,4,5,...|     1|\n",
      "|(22,[0,1,2,3,8,10...|     1|\n",
      "+--------------------+------+\n",
      "only showing top 20 rows\n",
      "\n"
     ]
    }
   ],
   "source": [
    "from pyspark.ml.feature import VectorAssembler\n",
    "assembler = VectorAssembler(inputCols =['age','trestbps','chol','thalach','oldpeak','sexVec','cpVec','fbsVec','restecgVec','exangVec','slopeVec','caVec','thalVec'],\n",
    "                           outputCol=\"features\")\n",
    "assembled= assembler.transform(data_encoded)\n",
    "\n",
    "data_asb =assembled.select(\"features\",\"target\")\n",
    "data_asb.show()"
   ]
  },
  {
   "cell_type": "code",
   "execution_count": 40,
   "id": "ee7c0cbe-d20b-4088-87d2-9de08128f822",
   "metadata": {},
   "outputs": [
    {
     "data": {
      "text/plain": [
       "Row(pcaFeatures=DenseVector([-217.5238, 150.2683, 136.8733, 53.3965, -2.6037, 0.9817, -2.2323, 0.768, -0.1088, -1.1132, 0.2432, -0.7249, -1.5901]), target=0)"
      ]
     },
     "execution_count": 40,
     "metadata": {},
     "output_type": "execute_result"
    }
   ],
   "source": [
    "from pyspark.ml.feature import PCA\n",
    "\n",
    "pca = PCA(k=13, inputCol=\"features\", outputCol=\"pcaFeatures\")\n",
    "model = pca.fit(data_asb).transform(data_asb)\n",
    "\n",
    "data_pca = model.select(\"pcaFeatures\",\"target\")\n",
    "data_pca.head()"
   ]
  },
  {
   "cell_type": "code",
   "execution_count": 41,
   "id": "68742273-9360-4fd6-99aa-132746cb595f",
   "metadata": {},
   "outputs": [],
   "source": [
    "train_data, test_data = data_pca.randomSplit([.7,.3],seed=1234)"
   ]
  },
  {
   "cell_type": "code",
   "execution_count": 42,
   "id": "b11e3f65-8ae6-45f2-beed-4989c615a8d2",
   "metadata": {},
   "outputs": [
    {
     "name": "stdout",
     "output_type": "stream",
     "text": [
      "Test Accuracy =  0.8841059602649006\n"
     ]
    }
   ],
   "source": [
    "from pyspark.ml.classification import DecisionTreeClassifier\n",
    "from pyspark.ml.evaluation import MulticlassClassificationEvaluator\n",
    "\n",
    "# Initialize the DecisionTreeClassifier\n",
    "dt = DecisionTreeClassifier(labelCol=\"target\", featuresCol=\"pcaFeatures\")\n",
    "\n",
    "# Fit the data to the model\n",
    "dt_model = dt.fit(train_data)\n",
    "\n",
    "# Make predictions on the test data\n",
    "dt_predictions = dt_model.transform(test_data)\n",
    "\n",
    "# Calculate accuracy\n",
    "evaluator = MulticlassClassificationEvaluator(labelCol='target', predictionCol='prediction', metricName='accuracy')\n",
    "dt_accuracy = evaluator.evaluate(dt_predictions)\n",
    "\n",
    "# Print the test accuracy\n",
    "print('Test Accuracy = ', dt_accuracy)\n"
   ]
  },
  {
   "cell_type": "code",
   "execution_count": 43,
   "id": "89f9e280-5b3d-494b-a8e2-624036dd2346",
   "metadata": {},
   "outputs": [
    {
     "name": "stdout",
     "output_type": "stream",
     "text": [
      "Test Accuracy =  0.9536423841059603\n"
     ]
    }
   ],
   "source": [
    "from pyspark.ml.classification import RandomForestClassifier\n",
    "# Initialize\n",
    "rf = RandomForestClassifier(labelCol=\"target\", featuresCol=\"pcaFeatures\")\n",
    "# Fit the data to the model\n",
    "rf_model = rf.fit(train_data)\n",
    "rf_predictions = rf_model.transform(test_data)\n",
    "# Calculate accuracy\n",
    "evaluator = MulticlassClassificationEvaluator(labelCol='target',predictionCol='prediction', metricName='accuracy')\n",
    "rf_accuracy = evaluator.evaluate(rf_predictions)\n",
    "print('Test Accuracy = ', rf_accuracy)"
   ]
  },
  {
   "cell_type": "code",
   "execution_count": null,
   "id": "5a02e604-215e-400b-9474-ce95a9475662",
   "metadata": {},
   "outputs": [],
   "source": []
  },
  {
   "cell_type": "code",
   "execution_count": null,
   "id": "5db50d93-6f98-4acd-916e-1aa3f9dabc99",
   "metadata": {},
   "outputs": [],
   "source": []
  }
 ],
 "metadata": {
  "kernelspec": {
   "display_name": "Python 3 (ipykernel)",
   "language": "python",
   "name": "python3"
  },
  "language_info": {
   "codemirror_mode": {
    "name": "ipython",
    "version": 3
   },
   "file_extension": ".py",
   "mimetype": "text/x-python",
   "name": "python",
   "nbconvert_exporter": "python",
   "pygments_lexer": "ipython3",
   "version": "3.11.7"
  }
 },
 "nbformat": 4,
 "nbformat_minor": 5
}
